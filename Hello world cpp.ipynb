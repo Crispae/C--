{
 "cells": [
  {
   "cell_type": "code",
   "execution_count": 14,
   "id": "44240083",
   "metadata": {},
   "outputs": [],
   "source": [
    "#include <iostream> // reuries to output data to the screen\n",
    "int main(){\n",
    "    std::cout<< \"welcome to \";\n",
    "    std::cout<< \"c++ \\n\";\n",
    "    \n",
    "    return 0; // Not mandatory to put\n",
    "} // end of the statement"
   ]
  },
  {
   "cell_type": "code",
   "execution_count": 15,
   "id": "e4fcae60",
   "metadata": {},
   "outputs": [
    {
     "name": "stdout",
     "output_type": "stream",
     "text": [
      "welcome to c++ \n"
     ]
    },
    {
     "data": {
      "text/plain": [
       "0"
      ]
     },
     "execution_count": 15,
     "metadata": {},
     "output_type": "execute_result"
    }
   ],
   "source": [
    "main()"
   ]
  },
  {
   "cell_type": "code",
   "execution_count": 16,
   "id": "1959f944",
   "metadata": {},
   "outputs": [],
   "source": [
    "#include <iostream>\n",
    "int main() {\n",
    "    std::cout << \"Hello \";\n",
    "    std::cout << \"world \\n\";\n",
    "    \n",
    "} // This function works withou the need of return 0"
   ]
  },
  {
   "cell_type": "code",
   "execution_count": 17,
   "id": "56ed6a8f",
   "metadata": {},
   "outputs": [
    {
     "name": "stdout",
     "output_type": "stream",
     "text": [
      "Hello world \n"
     ]
    },
    {
     "data": {
      "text/plain": [
       "0"
      ]
     },
     "execution_count": 17,
     "metadata": {},
     "output_type": "execute_result"
    }
   ],
   "source": [
    "main()"
   ]
  },
  {
   "cell_type": "code",
   "execution_count": 18,
   "id": "494f866f",
   "metadata": {},
   "outputs": [],
   "source": [
    "#include <iostream>\n",
    "int main(){\n",
    "    std::cout << \"Welcome\\n to \\n c++\";\n",
    "} // end of function"
   ]
  },
  {
   "cell_type": "code",
   "execution_count": 19,
   "id": "6393998e",
   "metadata": {},
   "outputs": [
    {
     "name": "stdout",
     "output_type": "stream",
     "text": [
      "Welcome\n",
      " to \n",
      " c++"
     ]
    },
    {
     "data": {
      "text/plain": [
       "0"
      ]
     },
     "execution_count": 19,
     "metadata": {},
     "output_type": "execute_result"
    }
   ],
   "source": [
    "main()"
   ]
  },
  {
   "cell_type": "code",
   "execution_count": null,
   "id": "17633a97",
   "metadata": {},
   "outputs": [],
   "source": []
  }
 ],
 "metadata": {
  "kernelspec": {
   "display_name": "C++14",
   "language": "C++14",
   "name": "xcpp14"
  },
  "language_info": {
   "codemirror_mode": "text/x-c++src",
   "file_extension": ".cpp",
   "mimetype": "text/x-c++src",
   "name": "c++",
   "version": "14"
  }
 },
 "nbformat": 4,
 "nbformat_minor": 5
}
