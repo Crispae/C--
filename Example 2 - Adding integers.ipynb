{
 "cells": [
  {
   "cell_type": "markdown",
   "id": "97f700e2",
   "metadata": {},
   "source": [
    "Every variable which is going to be used for storing data for later use must be declared with specific datatype and intialized beforhand.\n",
    "\n",
    "By default the variables whoch is being forned inside a variable is called **local varible of function/or block  in which they are declared**.\n",
    "\n",
    "By default variables are not initialized, it has to be intialized otherwise it will store some garbage value and later may raise issue in the program.\n",
    "\n",
    "Identifiers has certain rules in C++ like:\n",
    "1. Identifiers should start with letter(specifically lower case, Upper case is also used in speical cases) or _ \n",
    "2. Digit and specical character can be used as a first letter.\n",
    "3. _ can be used as first letter in varibale, but it is advised to not to use this it because C++ interal use their identifier with _.\n",
    "\n",
    "**Note:** \n",
    "1. Camel case notion is used for variable.\n",
    "2. C++ variable is case sensititive\n",
    "\n",
    "`std::endl` is a stream manipulator, it will output new line and it will flushout immediately the ouptut buffer as well, while `cout` will only output the character and store it into the temporaray variable\n",
    "\n",
    "#### Fundamental types\n",
    "1. Type **double** for specifying real numbers with decimal points, such as 3.4, 0.0 and -11.19\n",
    "2. Type **char** for specifying a single lowercase letter, uppercase letter, digit or special character (e.g,$ or *)\n",
    "\n",
    "More data types of c++ [Data types](\"https://www.geeksforgeeks.org/c-data-types/\")"
   ]
  },
  {
   "cell_type": "code",
   "execution_count": 7,
   "id": "37160cf2",
   "metadata": {},
   "outputs": [],
   "source": [
    "\n",
    "#include<iostream> // enables the program to perform input and output\n",
    "\n",
    "// Function main begins program execution\n",
    "int main(){\n",
    "    \n",
    "    // declaring and initializing variables it is convinent to use\n",
    "    \n",
    "    int number1{0};// first integet to add (intialized to 0)\n",
    "    int number2{0};\n",
    "    int sum{0};\n",
    "    \n",
    "    std::cout << \"Enter first integer: \"; // propmpt user for\n",
    "    std::cin >> number1; // Read first integer from user to number1\n",
    "    \n",
    "    std::cout << \"Enter second integer: \"; // Propmpt for input 2\n",
    "    std::cin >> number2; // corner pont of the arrow show floaw of data\n",
    "    \n",
    "    sum = number1 + number2; // add the number and store it into sum\n",
    "    \n",
    "    std::cout << \" Sum is \" << sum << std::endl; // concatenation and end    \n",
    "}"
   ]
  },
  {
   "cell_type": "code",
   "execution_count": 6,
   "id": "6d42218c",
   "metadata": {},
   "outputs": [
    {
     "name": "stdout",
     "output_type": "stream",
     "text": [
      "Enter first integer: 78789\n",
      "Enter second integer: 880089\n",
      " Sum is 958878\n"
     ]
    },
    {
     "data": {
      "text/plain": [
       "0"
      ]
     },
     "execution_count": 6,
     "metadata": {},
     "output_type": "execute_result"
    }
   ],
   "source": [
    "main()"
   ]
  },
  {
   "cell_type": "code",
   "execution_count": null,
   "id": "bbfc36d5",
   "metadata": {},
   "outputs": [],
   "source": [
    "#include<iostream> // enables the program to perform input and output\n",
    "\n",
    "// Function main begins program execution\n",
    "int main(){\n",
    "    \n",
    "    // declaring and initializing variables it is convinent to use\n",
    "    \n",
    "    int number1{0};// first integet to add (intialized to 0)\n",
    "    int number2{0};\n",
    "    \n",
    "    \n",
    "    std::cout << \"Enter first integer: \"; // propmpt user for\n",
    "    std::cin >> number1; // Read first integer from user to number1\n",
    "    \n",
    "    std::cout << \"Enter second integer: \"; // Propmpt for input 2\n",
    "    std::cin >> number2; // corner pont of the arrow show floaw of data\n",
    "    \n",
    "    int sum = number1 + number2; // declaration and initilaization occur \n",
    "    // at same time\n",
    "    \n",
    "    std::cout << \" Sum is \" << sum << std::endl; // concatenation and end    \n",
    "}"
   ]
  },
  {
   "cell_type": "code",
   "execution_count": null,
   "id": "a60f8805",
   "metadata": {},
   "outputs": [],
   "source": [
    "main()"
   ]
  }
 ],
 "metadata": {
  "kernelspec": {
   "display_name": "C++14",
   "language": "C++14",
   "name": "xcpp14"
  },
  "language_info": {
   "codemirror_mode": "text/x-c++src",
   "file_extension": ".cpp",
   "mimetype": "text/x-c++src",
   "name": "c++",
   "version": "14"
  }
 },
 "nbformat": 4,
 "nbformat_minor": 5
}
