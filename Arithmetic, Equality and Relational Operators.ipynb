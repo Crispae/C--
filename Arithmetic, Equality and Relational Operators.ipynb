{
 "cells": [
  {
   "cell_type": "markdown",
   "id": "6674bc12",
   "metadata": {},
   "source": [
    "### Arithmetic Operators\n",
    "___\n",
    "\n",
    "| Operations     \t| Arithmetic operator \t| C++ expressions \t|\n",
    "|----------------\t|---------------------\t|-----------------\t|\n",
    "| Addition       \t| +                   \t| f +6            \t|\n",
    "| subtraction    \t| -                   \t| p - c           \t|\n",
    "| Multiplication \t| *                   \t| b \\* m          \t|\n",
    "| Division       \t| /                   \t| x / y           \t|\n",
    "| Remainder      \t| %                   \t| r % s           \t|\n",
    "\n",
    "### Integer Division\n",
    "___\n",
    "\n",
    "- Integer division in which the numerator and the denominatoe are integers yiled an integer quotient\n",
    "- 7/4 evaluates to 1\n",
    "- 17/5 evaluates to 3\n",
    "- Any fractional part in the result is truncated -no rounding occurs\n",
    "\n",
    "### Remainder operator\n",
    "- x%y yileds the remainer after dividing x by y using integer division\n",
    "- Can be used only with integer operands\n",
    "- 7%4 yields 3\n",
    "- 17%5 yields 2\n",
    "\n",
    "### Rules for Operator Precedence\n",
    "\n",
    "- C++ applies the operators in arithmetic expressions in a precise order determined by the rule of **operator precedence** - generally same as in algebra.\n",
    "- Expresion of **parentheses** evaluated first\n",
    "- Multiplication, division and reminder operators evaluated next\n",
    " - Applied from left-to-right.\n",
    "- Addition and subtraction operations evaluated last\n",
    " - applied from left-to-right.\n",
    "\n",
    "**Caution**: If you have an expression such as (a+b)*(c-d) in which two sets of parenthesesare not nested, but appearon the same level, \" the c++ standard does not specify the orderin which these parenthesized subexpression will evaluate\"\n",
    "\n",
    "### Opearator Grouping\n",
    "\n",
    " - Grouping refers to the order in which C++ applies ceratin operators\n",
    " - In the expression a+b+c the + operators groups from left-to-rigth as if we had written (a+b)+c\n"
   ]
  },
  {
   "cell_type": "markdown",
   "id": "b1bea5ec",
   "metadata": {},
   "source": [
    "### Equality and Relational Operators\n",
    "___\n",
    "\n",
    "| Algebric operator    \t| C++ operator \t| Sample Condition \t| Meaning                         \t|\n",
    "|----------------------\t|--------------\t|------------------\t|---------------------------------\t|\n",
    "| Relational operators \t|              \t|                  \t|                                 \t|\n",
    "| >                    \t| >            \t| x > y            \t| x is greater than y             \t|\n",
    "| <                    \t| <            \t| x < y            \t| x is less than y                \t|\n",
    "| >=                   \t| >=           \t| x >= y           \t| x is greater than or equal to y \t|\n",
    "| <=                   \t| <=           \t| x <= y           \t| x is less than or equal to y    \t|\n",
    "| Equality operators   \t|              \t|                  \t|                                 \t|\n",
    "| =                    \t| ==           \t| x == y           \t| x is equal to y                 \t|\n",
    "| not equal            \t| !=           \t| x != y           \t| x is not equal to y             \t|\n",
    "\n",
    "\n",
    "\n",
    "These operators are used in conditional statement."
   ]
  },
  {
   "cell_type": "code",
   "execution_count": 15,
   "id": "c89d04af",
   "metadata": {},
   "outputs": [
    {
     "name": "stderr",
     "output_type": "stream",
     "text": [
      "\u001b[1minput_line_38:4:11: \u001b[0m\u001b[0;1;31merror: \u001b[0m\u001b[1mfunction definition is not allowed here\u001b[0m\n",
      "int main(){\n",
      "\u001b[0;1;32m          ^\n",
      "\u001b[0m"
     ]
    },
    {
     "ename": "Interpreter Error",
     "evalue": "",
     "output_type": "error",
     "traceback": [
      "Interpreter Error: "
     ]
    }
   ],
   "source": [
    "#include <iostream> // give access to cin,cout and endl\n",
    "using namespace std;\n",
    "// finction main beigns program execution\n",
    "int main(){\n",
    "    \n",
    "\n",
    "    int number1{0};\n",
    "    int number2{0};\n",
    "    \n",
    "    cout << \"Enter two integers to compare: \"; // prompt user for data\n",
    "    cin >> number1 >> number2; // read two integers from user\n",
    "    \n",
    "    if (number1 == number2 ){\n",
    "        std::cout << number1 << \" == \" << number2 << std::endl;\n",
    "    }\n",
    "    \n",
    "    if (number1 != number2){\n",
    "        std::cout << number1 << \" !== \" << number2 <<std::endl;\n",
    "    }\n",
    "    \n",
    "    if (number1 < number2){\n",
    "        std::cout << number1 << \" < \" << number2 <<std::endl;\n",
    "    }\n",
    "    \n",
    "    if (number1 <= number2) {\n",
    "        std::cout <<  number1 << \" <= \" <<number2 <<std::endl;\n",
    "    }\n",
    "    \n",
    "    if (number1 >= number2){\n",
    "        std::cout << number1 << \" >= \" << number2 << std::endl;\n",
    "    }\n",
    "\n",
    "}\n",
    "\n"
   ]
  },
  {
   "cell_type": "code",
   "execution_count": 14,
   "id": "5ad45579",
   "metadata": {},
   "outputs": [
    {
     "name": "stdout",
     "output_type": "stream",
     "text": [
      "Enter two integers to compare: 8\n",
      "9\n",
      "8 !== 9\n",
      "8 < 9\n",
      "8 <= 9\n"
     ]
    },
    {
     "data": {
      "text/plain": [
       "0"
      ]
     },
     "execution_count": 14,
     "metadata": {},
     "output_type": "execute_result"
    }
   ],
   "source": [
    "main()"
   ]
  },
  {
   "cell_type": "code",
   "execution_count": null,
   "id": "e38921aa",
   "metadata": {},
   "outputs": [],
   "source": []
  }
 ],
 "metadata": {
  "kernelspec": {
   "display_name": "C++14",
   "language": "C++14",
   "name": "xcpp14"
  },
  "language_info": {
   "codemirror_mode": "text/x-c++src",
   "file_extension": ".cpp",
   "mimetype": "text/x-c++src",
   "name": "c++",
   "version": "14"
  }
 },
 "nbformat": 4,
 "nbformat_minor": 5
}
